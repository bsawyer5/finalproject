{
 "cells": [
  {
   "cell_type": "code",
   "execution_count": null,
   "id": "6d6e0e72-1834-4a6b-af30-b6824506752b",
   "metadata": {},
   "outputs": [],
   "source": [
    "#Beryl Sawyerr\n",
    "\n",
    "import pandas as pd\n",
    "import numpy as np\n",
    "import matplotlib.pyplot as plt\n",
    "import seaborn as sns\n",
    "from sklearn.linear_model import LogisticRegression\n",
    "from sklearn.model_selection import train_test_split\n",
    "from sklearn.metrics import r2_score, mean_squared_error\n",
    "from jupyter_dash import JupyterDash\n",
    "import dash\n",
    "from dash import dcc, html, Input, Output\n",
    "import joblib\n",
    "from sklearn.pipeline import Pipeline\n",
    "%matplotlib inline"
   ]
  },
  {
   "cell_type": "markdown",
   "id": "e9c3ec1b-78fb-4327-9587-02e5f29be73e",
   "metadata": {},
   "source": [
    "## Exploratory data analysis\n",
    "\n",
    "This project uses data from the Cleveland Clinic Heart Disease dataset, collated by Dr Robert Detrano, M.D., Ph.D.\n",
    "It was collected in response to the need for noninvasive coronary heart disease diagnostics, an alternative the gold stanard coronary angiogram. The original dataset contains 303 observations and 76 attributes, however for the purposes of this project a subset of 14 attributes(13 observable features and 1 taget variable) is used. The features include scores for alternative non-invasive diagnostics tests for heart disease, as well as some patient information. As there were no missing values, the dataset did not need much pre-processing. I only renamed some column heads just for ease of comprehension, prior to commencing exploratory work. It is also worth noting that the last column denotes the presence and severity of heart disease ie 0= no coronary disease, and 1-4 representing progressive severity of the occlusion. Prior work with this dataset has investigated purely the presence or absence of heart disease, ie 0 for no disease and 1 otherwise (values 1-4).\n",
    "\n",
    "Attribute Information:\n",
    "\n",
    "1. age: age in years\n",
    "2. sex: sex (1 = male; 0 = female)\n",
    "3. cp: chest pain type\n",
    "* Value 1: typical angina\n",
    "* Value 2: atypical angina\n",
    "* Value 3: non-anginal pain\n",
    "* Value 4: asymptomatic\n",
    "4. trestbps: resting blood pressure (in mm Hg on admission to the\n",
    "hospital)\n",
    "5. chol: serum cholestoral in mg/dl\n",
    "6. fbs: fasting blood sugar > 120 mg/dl (1 = true; 0 = false)\n",
    "7. restecg: resting electrocardiographic results\n",
    "* Value 0: normal\n",
    "* Value 1: having ST-T wave abnormality (T wave inversions and/or ST elevation or depression of > 0.05 mV)\n",
    "* Value 2: showing probable or definite left ventricular hypertrophy by Estes' criteria\n",
    "8. thalach: maximum heart rate achieved\n",
    "9. exang: exercise induced angina (1 = yes; 0 = no)\n",
    "10. oldpeak: ST depression induced by exercise relative to rest\n",
    "11. slope: the slope of the peak exercise ST segment\n",
    "* Value 1: upsloping\n",
    "* Value 2: flat\n",
    "* Value 3: downsloping\n",
    "12. ca: number of major vessels (0-3) colored by flourosopy (for calcification of vessels)\n",
    "13. thal: results of nuclear stress test (3 = normal; 6 = fixed defect; 7 = reversable defect)\n",
    "14. num: target variable representing diagnosis of heart disease (angiographic disease status) in any major vessel\n",
    "* Value 0: < 50% diameter narrowing\n",
    "* Value 1: > 50% diameter narrowing"
   ]
  },
  {
   "cell_type": "code",
   "execution_count": null,
   "id": "201fa8c4-65e0-4fc1-be16-bccbdb7dbeed",
   "metadata": {},
   "outputs": [],
   "source": [
    "#read in dataset and rename columns\n",
    "\n",
    "df = pd.read_csv(" https://raw.githubusercontent.com/bsawyer5/finalproject/main/data/processed_cleveland.csv")\n",
    "df = df.rename(columns={\"cp\": \"chest_pain\", \"trestbps\": \"resting_bloodpressure\", \"chol\":\"cholesterol\", \"fbs\":\"fasting_bloodsugar\", \"restecg\":\"resting_ecg\", \"thalach\":\"max_heartrate\", \"exang\":\"angina_exercise\", \"oldpeak\":\"st_depression\", \"slope\":\"st_slope\", \"ca\":\"vessel_calcification\", \"thal\":\"stress_test\", \"num\":\"disease_state\"})\n",
    "df"
   ]
  },
  {
   "cell_type": "code",
   "execution_count": null,
   "id": "54bbe5ee-e6eb-46dc-a1bb-5ba5d3cc3941",
   "metadata": {},
   "outputs": [],
   "source": [
    "#Check for any missing values\n",
    "\n",
    "df.isnull().sum()"
   ]
  },
  {
   "cell_type": "markdown",
   "id": "c0f7deaa-4ffc-4108-a79b-c7014d5c3126",
   "metadata": {},
   "source": [
    "Although there are no null values in the dataframe, there are rows with '?' value in the vessel calcification column, so these will be dropped."
   ]
  },
  {
   "cell_type": "code",
   "execution_count": null,
   "id": "ae0a3b55-b82b-4429-87d3-f7113975efd7",
   "metadata": {},
   "outputs": [],
   "source": [
    "df = df[ (df['vessel_calcification'] != '?') & (df['stress_test'] != '?')]\n",
    "df"
   ]
  },
  {
   "cell_type": "code",
   "execution_count": null,
   "id": "d2d69987-3f47-4990-8a32-55ff18074e69",
   "metadata": {},
   "outputs": [],
   "source": [
    "#Summary statistics of dataframe\n",
    "\n",
    "stats = df.describe()\n",
    "stats"
   ]
  },
  {
   "cell_type": "code",
   "execution_count": null,
   "id": "c866f2d9-6606-47c6-b7cb-25ba7433d507",
   "metadata": {},
   "outputs": [],
   "source": [
    "#Exploring the distribution of patients with and without coronoary disease\n",
    "\n",
    "df.hist(figsize=(15,15),edgecolor='black')\n"
   ]
  },
  {
   "cell_type": "code",
   "execution_count": null,
   "id": "afc71f29-f0da-4032-8d47-9f2175b47948",
   "metadata": {},
   "outputs": [],
   "source": [
    "#Exploring distributions in patients with confirmed coronary heart disease\n",
    "\n",
    "cd = df.loc[df['disease_state'] != 0]\n",
    "cd.head()\n",
    "cd.hist(figsize=(15,15),edgecolor='black')"
   ]
  },
  {
   "cell_type": "markdown",
   "id": "f488ed83-df7e-420a-b428-a6422debbf54",
   "metadata": {},
   "source": [
    "Although the distributions remain similar for several attributes, there are clear biases towards certain values/ranges in attributes like age and chest pain.\n",
    "\n",
    "We can see that most participants with coronary disease have level 1 occlusion, with fairly even spread between levels 2 and 3, and the smalest group at level 4.\n",
    "\n",
    "I want to compare the disease vs non-diseased group together directly so will create a new dataframe categorising all patients with coronary disease as value 1, and non-diseased remaining at 0."
   ]
  },
  {
   "cell_type": "code",
   "execution_count": null,
   "id": "acb3cc39-da6f-4ed2-892d-f6802eab4921",
   "metadata": {},
   "outputs": [],
   "source": [
    "df['diagnosis'] = np.where(df['disease_state'] > 0, 1, 0)\n",
    "df1 = df.drop(columns='disease_state')\n",
    "df1"
   ]
  },
  {
   "cell_type": "code",
   "execution_count": null,
   "id": "f99e5881-cef9-4463-9c65-212b5eb225a0",
   "metadata": {},
   "outputs": [],
   "source": [
    "#Exploring correlations between attributes for participants with coronary disease and not.\n",
    "\n",
    "disease = df1[df1.diagnosis == 1]\n",
    "no_disease = df1[df1.diagnosis == 0]\n",
    "\n",
    "plt.figure(figsize=(11,11))\n",
    "sns.heatmap(disease.corr(), annot=True)"
   ]
  },
  {
   "cell_type": "code",
   "execution_count": null,
   "id": "40e96a32-ee92-4b24-a4a9-eefef535ec58",
   "metadata": {},
   "outputs": [],
   "source": [
    "plt.figure(figsize=(11,11))\n",
    "sns.heatmap(no_disease.corr(), annot=True)"
   ]
  },
  {
   "cell_type": "markdown",
   "id": "df91ac59-7e24-41de-9e30-ed894c484cc3",
   "metadata": {},
   "source": [
    "Neither matrix show strong correlations in many attributes, but we note differing patterns of correlation in the same attributes."
   ]
  },
  {
   "cell_type": "markdown",
   "id": "7719f795-4c8a-4ea1-8b67-b6cb345f58b5",
   "metadata": {},
   "source": [
    "## Predictive modelling\n",
    "\n",
    "In this section we aim to develop an accurate predictor of coronary disease from the available data."
   ]
  },
  {
   "cell_type": "code",
   "execution_count": null,
   "id": "4fe1ae25-95a0-45b2-bb4e-54bb15b895cb",
   "metadata": {},
   "outputs": [],
   "source": [
    "# Feature Selection\n",
    "\n",
    "plt.rcParams['figure.figsize']=15,10 \n",
    "sns.set_style(\"darkgrid\")\n",
    "\n",
    "x = df1.iloc[:, :-1]\n",
    "y = df1.iloc[:,-1]\n",
    "\n",
    "from sklearn.ensemble import ExtraTreesClassifier\n",
    "\n",
    "model = ExtraTreesClassifier()\n",
    "model.fit(x,y)\n",
    "print(model.feature_importances_) \n",
    "feat_importances = pd.Series(model.feature_importances_, index=x.columns)\n",
    "feat_importances.nlargest(12).plot(kind='barh')\n",
    "plt.show()"
   ]
  },
  {
   "cell_type": "markdown",
   "id": "5a7b12d5-a03c-413f-b6c1-02e214e567f6",
   "metadata": {},
   "source": [
    "Here we see the features with the most importance are:\n",
    "* stress test performance\n",
    "* vessel calcification\n",
    "* chest pain\n",
    "\n",
    "The least important features will be dropped in the future model."
   ]
  },
  {
   "cell_type": "code",
   "execution_count": null,
   "id": "da39b542-b916-4662-923c-c65343dc2f09",
   "metadata": {},
   "outputs": [],
   "source": [
    "df2 = df1[['chest_pain', 'vessel_calcification', 'stress_test', 'diagnosis']]\n",
    "df2"
   ]
  },
  {
   "cell_type": "code",
   "execution_count": null,
   "id": "766bff85-b725-49b7-a1c2-825236d49b69",
   "metadata": {},
   "outputs": [],
   "source": [
    "# spliting the data\n",
    "\n",
    "from sklearn.model_selection import train_test_split\n",
    "from sklearn import metrics\n",
    "from sklearn.metrics import accuracy_score\n",
    "\n",
    "x=df2.drop('diagnosis',axis=1)\n",
    "y=df2.diagnosis\n",
    "\n",
    "x_train,x_test,y_train,y_test = train_test_split(x,y,test_size=0.3)"
   ]
  },
  {
   "cell_type": "code",
   "execution_count": null,
   "id": "fb1e37b2-e4f7-4a47-9a6d-839e7ec5d4e0",
   "metadata": {},
   "outputs": [],
   "source": [
    "#feature scaling\n",
    "\n",
    "from sklearn.preprocessing import StandardScaler\n",
    "sc = StandardScaler()\n",
    "\n",
    "x_train = sc.fit_transform(x_train)\n",
    "x_test = sc.transform(x_test)"
   ]
  },
  {
   "cell_type": "markdown",
   "id": "172b738b-4f69-4151-8eed-285611223056",
   "metadata": {},
   "source": [
    "## Logistic Regression"
   ]
  },
  {
   "cell_type": "code",
   "execution_count": null,
   "id": "7e7fdc75-868f-4b15-a09f-24421c590504",
   "metadata": {},
   "outputs": [],
   "source": [
    "#Logistic regression\n",
    "\n",
    "from sklearn.linear_model import LogisticRegression\n",
    "from sklearn.metrics import confusion_matrix, accuracy_score\n",
    "\n",
    "model = LogisticRegression()\n",
    "\n",
    "#Fitting the model\n",
    "model.fit(x_train, y_train)\n",
    "y_pred = model.predict(x_test)\n",
    "\n",
    "mylist = []\n",
    "# Confusion Matrix\n",
    "cm = confusion_matrix(y_test, y_pred)\n",
    "# accuracy\n",
    "acc_lg = accuracy_score(y_test, y_pred)\n",
    "\n",
    "mylist.append(acc_lg)\n",
    "print(cm)\n",
    "print(acc_lg)"
   ]
  },
  {
   "cell_type": "markdown",
   "id": "bc397d7d-2122-4389-b110-dd329c8bca70",
   "metadata": {},
   "source": [
    "## Support Vector Machine"
   ]
  },
  {
   "cell_type": "code",
   "execution_count": null,
   "id": "77ccc37b-a9a2-47a7-b390-1f2f74bd8232",
   "metadata": {},
   "outputs": [],
   "source": [
    "# Support vector machine\n",
    "\n",
    "from sklearn.svm import SVC\n",
    "list1 = []\n",
    "for c in [0.5,0.6,0.7,0.8,0.9,1.0]:\n",
    "    classifier = SVC(C = c, random_state=0, kernel = 'rbf')\n",
    "    classifier.fit(x_train, y_train)\n",
    "    y_pred = classifier.predict(x_test)\n",
    "    list1.append(accuracy_score(y_test,y_pred))\n",
    "plt.plot([0.5,0.6,0.7,0.8,0.9,1.0], list1)\n",
    "plt.show()"
   ]
  },
  {
   "cell_type": "code",
   "execution_count": null,
   "id": "1f7d6193-2bc3-4401-8c3c-8ad33deb9d88",
   "metadata": {},
   "outputs": [],
   "source": [
    "# Training the SVC\n",
    "\n",
    "from sklearn.svm import SVC\n",
    "classifier = SVC(C = 0.7, random_state=0, kernel = 'rbf')\n",
    "classifier.fit(x_train, y_train)\n",
    "\n",
    "y_pred = classifier.predict(x_test)\n",
    "\n",
    "# Confusion matrix and accuracy score\n",
    "\n",
    "cm = confusion_matrix(y_test, y_pred)\n",
    "acc_svc = accuracy_score(y_test, y_pred)\n",
    "print(cm)\n",
    "print(acc_svc)\n",
    "mylist.append(acc_svc)"
   ]
  },
  {
   "cell_type": "markdown",
   "id": "5708d139-c344-4b38-bec3-95b87427d432",
   "metadata": {},
   "source": [
    "## Random Forest"
   ]
  },
  {
   "cell_type": "code",
   "execution_count": null,
   "id": "1a368093-4761-4cd1-a36d-b7c847d7bbed",
   "metadata": {},
   "outputs": [],
   "source": [
    "#Finding the optimal number od estimators without training the model multiple times\n",
    "\n",
    "from sklearn.ensemble import RandomForestClassifier\n",
    "list1 = []\n",
    "for estimators in range(10,30):\n",
    "    classifier = RandomForestClassifier(n_estimators = estimators, random_state=0, criterion='entropy')\n",
    "    classifier.fit(x_train, y_train)\n",
    "    y_pred = classifier.predict(x_test)\n",
    "    list1.append(accuracy_score(y_test,y_pred))\n",
    "\n",
    "plt.plot(list(range(10,30)), list1)\n",
    "plt.show()\n"
   ]
  },
  {
   "cell_type": "code",
   "execution_count": null,
   "id": "2b579da8-d9f9-4100-839a-efa0f8f9cfb3",
   "metadata": {},
   "outputs": [],
   "source": [
    "# Training the Random Forest Classifier\n",
    "\n",
    "classifier = RandomForestClassifier(n_estimators = 22, criterion='entropy', random_state=0)\n",
    "classifier.fit(x_train,y_train)\n",
    "\n",
    "y_pred = classifier.predict(x_test)\n"
   ]
  },
  {
   "cell_type": "code",
   "execution_count": null,
   "id": "dfdb334a-08df-49b1-b4ad-a91287cd3ff8",
   "metadata": {},
   "outputs": [],
   "source": [
    "acc_randomforest = accuracy_score(y_test, y_pred)\n",
    "mylist.append(acc_randomforest)\n",
    "print(cm)\n",
    "print(acc_randomforest)"
   ]
  },
  {
   "cell_type": "code",
   "execution_count": null,
   "id": "f74addb1-ac31-48bd-86cd-380ce9d36587",
   "metadata": {},
   "outputs": [],
   "source": [
    "models = pd.DataFrame({\n",
    "    'Model': ['Logistic Regression', 'Support Vector Machines','Random Forest'],\n",
    "    'Score': [acc_lg, acc_svc, acc_randomforest]})\n",
    "models.sort_values(by='Score', ascending=False)"
   ]
  },
  {
   "cell_type": "markdown",
   "id": "9b6f15e6-5a0d-47ed-8979-845dd5edfacf",
   "metadata": {},
   "source": [
    "Of the 3 methods tried, we see that logistic regression performs the worst. Although the exact accuracy scores vary slightly with each iteration, this trend generally remains consistent."
   ]
  },
  {
   "cell_type": "markdown",
   "id": "afd24c27-8dc8-45cc-80d5-ed5ea5491321",
   "metadata": {},
   "source": [
    "## Risk Calculator\n",
    "\n",
    "In this section, the random forest classifier is used to develop a disease calculator. Pipeline and joblib are used to save the model so it can be called in the calculator without creating a new model each time."
   ]
  },
  {
   "cell_type": "code",
   "execution_count": null,
   "id": "cb476786-ea59-4788-a6e6-319645d0c6bb",
   "metadata": {},
   "outputs": [],
   "source": [
    "#Creating a new random forest classifier. In order to build a calculator that\n",
    "# predicts the degree of coronary disease, I reload the dataset and include the disease state column.\n",
    "\n",
    "df = pd.read_csv(\"/Users/berylsawyerr/Downloads/processed_cleveland.csv\")\n",
    "df = df.rename(columns={\"cp\": \"chest_pain\", \"trestbps\": \"resting_bloodpressure\", \"chol\":\"cholesterol\", \"fbs\":\"fasting_bloodsugar\", \"restecg\":\"resting_ecg\", \"thalach\":\"max_heartrate\", \"exang\":\"angina_exercise\", \"oldpeak\":\"st_depression\", \"slope\":\"st_slope\", \"ca\":\"vessel_calcification\", \"thal\":\"stress_test\", \"num\":\"disease_state\"})\n",
    "\n",
    "df = df[ (df['vessel_calcification'] != '?') & (df['stress_test'] != '?')]\n",
    "\n",
    "df2 = df[['chest_pain', 'vessel_calcification', 'stress_test', 'disease_state']]\n",
    "\n",
    "x=df2.drop('disease_state',axis=1)\n",
    "y=df2.disease_state\n",
    "\n",
    "x_train,x_test,y_train,y_test = train_test_split(x,y,test_size=0.3)\n",
    "\n",
    "# Creating our pipeline that first preprocesses the data, then scales the data, then fits the data to a RandomForsestClassifier\n",
    "\n",
    "rfc_pipeline = Pipeline(steps = [\n",
    "    ('sc', StandardScaler()),\n",
    "    ('model', RandomForestClassifier(n_estimators = 22))\n",
    "])\n",
    "\n",
    "\n",
    "rfc_pipeline.fit(x_train, y_train)\n",
    "joblib.dump(rfc_pipeline, 'rfc_pipeline.joblib')\n",
    "\n",
    "y_pred = rfc_pipeline.predict(x_test)\n"
   ]
  },
  {
   "cell_type": "code",
   "execution_count": null,
   "id": "4e9ec0ac-f0fa-46e0-ab3f-ddfbf185bf75",
   "metadata": {},
   "outputs": [],
   "source": [
    "external_stylesheets = ['https://codepen.io/chriddyp/pen/bWLwgP.css']\n",
    "\n",
    "app = JupyterDash(__name__, external_stylesheets=external_stylesheets)\n",
    "app.config.suppress_callback_exceptions = True\n",
    "server = app.server\n",
    "\n",
    "style = {'padding': '1.5em'}\n",
    "\n",
    "app.layout = html.Div([\n",
    "    dcc.Markdown(\"\"\"\n",
    "        ### Predict\n",
    "        Use the controls below to update your predicted diagnosis of coronary disease, based on chest pain, vessel calcification and stress test performance.\n",
    "        Scores range from 0-4 and denote the degree of coronary occlusion, with 0 indicating no occlusion and 4 corresponding to the worst.\n",
    "    \"\"\"),\n",
    "\n",
    "    html.Div(id='prediction-content', style={'fontWeight': 'bold'}),\n",
    "\n",
    "\n",
    "    html.Div([\n",
    "        dcc.Markdown('###### Chest Pain'),\n",
    "        dcc.Slider(\n",
    "            id='chest_pain',\n",
    "            min=1,\n",
    "            max=4,\n",
    "            step=1,\n",
    "            value=3,\n",
    "            marks={n: str(n) for n in range(1, 4, 1)}\n",
    "        ),\n",
    "    ], style=style),\n",
    "\n",
    "    html.Div([\n",
    "        dcc.Markdown('###### Vessel Calcification'),\n",
    "        dcc.Slider(\n",
    "            id='vessel_calcification',\n",
    "            min=0,\n",
    "            max=3,\n",
    "            step=1,\n",
    "            value=2,\n",
    "            marks={n: str(n) for n in range(0, 3, 1)}\n",
    "        ),\n",
    "    ], style=style),\n",
    "\n",
    "    html.Div([\n",
    "        dcc.Markdown('###### Stress Test'),\n",
    "        dcc.Slider(\n",
    "            id='stress_test',\n",
    "            min=3,\n",
    "            max=7,\n",
    "            step=1,\n",
    "            value=3,\n",
    "            marks={n: str(n) for n in range(3, 7, 1)}\n",
    "        ),\n",
    "    ], style=style),\n",
    "\n",
    "\n",
    "])\n",
    "\n",
    "\n",
    "@app.callback(\n",
    "    Output('prediction-content', 'children'),\n",
    "    [Input('chest_pain', 'value'),\n",
    "     Input('vessel_calcification', 'value'),\n",
    "     Input('stress_test', 'value')])\n",
    "\n",
    "def predict(chest_pain, vessel_calcification, stress_test):\n",
    "\n",
    " \n",
    "    df3 = pd.DataFrame(\n",
    "        columns=['Chest Pain', 'Vessel Calcification', 'Stress Test'],\n",
    "        data=[[chest_pain, vessel_calcification, stress_test]]\n",
    "    )\n",
    "\n",
    "    rfc_pipeline = joblib.load('rfc_pipeline.joblib')\n",
    "    y_pred_log = rfc_pipeline.predict(df3)\n",
    "    y_pred = y_pred_log[0]\n",
    "    results = f'The predicted diagnosis is {y_pred:,.0f}.'\n",
    "\n",
    "    return results\n",
    "     \n",
    "     \n",
    "app.run_server(mode='external')     "
   ]
  }
 ],
 "metadata": {
  "kernelspec": {
   "display_name": "Python 3 (ipykernel)",
   "language": "python",
   "name": "python3"
  },
  "language_info": {
   "codemirror_mode": {
    "name": "ipython",
    "version": 3
   },
   "file_extension": ".py",
   "mimetype": "text/x-python",
   "name": "python",
   "nbconvert_exporter": "python",
   "pygments_lexer": "ipython3",
   "version": "3.9.12"
  },
  "toc-autonumbering": false,
  "toc-showcode": false,
  "toc-showtags": true
 },
 "nbformat": 4,
 "nbformat_minor": 5
}
